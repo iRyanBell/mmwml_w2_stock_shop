{
  "nbformat": 4,
  "nbformat_minor": 0,
  "metadata": {
    "colab": {
      "name": "stock_shop.ipynb",
      "provenance": [],
      "collapsed_sections": []
    },
    "kernelspec": {
      "name": "python3",
      "display_name": "Python 3"
    }
  },
  "cells": [
    {
      "cell_type": "markdown",
      "metadata": {
        "id": "saa6TY0mQx5N",
        "colab_type": "text"
      },
      "source": [
        "# Make Money with Machine Learning\n",
        "Week 2: Homework Assignment (**Stock Prediction**)"
      ]
    },
    {
      "cell_type": "code",
      "metadata": {
        "id": "SGGHHrWwhB4a",
        "colab_type": "code",
        "outputId": "46ad8b33-56c7-4a5b-ee68-63ff5699edab",
        "colab": {
          "base_uri": "https://localhost:8080/",
          "height": 36
        }
      },
      "source": [
        "# First, we'll setup shop.\n",
        "\n",
        "import math\n",
        "import pandas as pd\n",
        "import numpy as np\n",
        "import datetime\n",
        "\n",
        "from sklearn import preprocessing\n",
        "from sklearn.linear_model import LinearRegression\n",
        "from sklearn.neighbors import KNeighborsRegressor\n",
        "from sklearn.linear_model import Ridge\n",
        "from sklearn.preprocessing import PolynomialFeatures\n",
        "from sklearn.pipeline import make_pipeline\n",
        "\n",
        "from pandas_datareader import data as pdr\n",
        "import fix_yahoo_finance as yf\n",
        "\n",
        "import matplotlib.pyplot as plt\n",
        "from matplotlib import style\n",
        "import matplotlib as mpl\n",
        "\n",
        "mpl.rc('figure', figsize=(8, 7))\n",
        "style.use('ggplot')\n",
        "\n",
        "print(\"Good to go.\")"
      ],
      "execution_count": 0,
      "outputs": [
        {
          "output_type": "stream",
          "text": [
            "Good to go.\n"
          ],
          "name": "stdout"
        }
      ]
    },
    {
      "cell_type": "code",
      "metadata": {
        "id": "nVzHqWiYnn8S",
        "colab_type": "code",
        "outputId": "caa848dc-6884-40da-c594-3919c4de38ac",
        "colab": {
          "base_uri": "https://localhost:8080/",
          "height": 55
        }
      },
      "source": [
        "# Now, lets get some data.\n",
        "\n",
        "def get_historical_data(symbol, start_date=\"2019-01-01\"):\n",
        "  yf.pdr_override()\n",
        "  df = pdr.get_data_yahoo(symbol, start=start_date).reset_index()\n",
        "  df.to_csv(symbol + '.csv', index=False)\n",
        "  \n",
        "get_historical_data('SHOP')\n",
        "\n",
        "print(\"Data acquired!\")"
      ],
      "execution_count": 0,
      "outputs": [
        {
          "output_type": "stream",
          "text": [
            "[*********************100%***********************]  1 of 1 downloaded\n",
            "Data acquired!\n"
          ],
          "name": "stdout"
        }
      ]
    },
    {
      "cell_type": "markdown",
      "metadata": {
        "id": "bLsazLytphG3",
        "colab_type": "text"
      },
      "source": [
        "![DATA](https://i.imgur.com/TYIPIY3.gif \"Data!\")"
      ]
    },
    {
      "cell_type": "markdown",
      "metadata": {
        "id": "gRinHhhDpesg",
        "colab_type": "text"
      },
      "source": [
        ""
      ]
    },
    {
      "cell_type": "code",
      "metadata": {
        "id": "lYB1YSNnoG6y",
        "colab_type": "code",
        "outputId": "d16d5b70-eb71-4a88-e2b0-dee9845c8262",
        "colab": {
          "base_uri": "https://localhost:8080/",
          "height": 257
        }
      },
      "source": [
        "print(\"I'm not sure if this is a good idea...\");\n",
        "print(\"But, we're going to interpolate the weekend. 🤷\");\n",
        "\n",
        "df = pd.read_csv('SHOP.csv');\n",
        "df = df.loc[:, ['Date', 'Volume', 'Open', 'High', 'Low', 'Close', 'Adj Close']]\n",
        "\n",
        "df['Date'] = pd.to_datetime(df['Date'], format='%Y-%m-%d')\n",
        "df = df.sort_values(by=['Date'], ascending=[True])\n",
        "df.set_index('Date', inplace=True)\n",
        "df = df.resample('D').fillna(method=None).interpolate()\n",
        "\n",
        "df.head()"
      ],
      "execution_count": 0,
      "outputs": [
        {
          "output_type": "stream",
          "text": [
            "I'm not sure if this is a good idea, but, we're going to interpolate the weekend. 🤷\n"
          ],
          "name": "stdout"
        },
        {
          "output_type": "execute_result",
          "data": {
            "text/html": [
              "<div>\n",
              "<style scoped>\n",
              "    .dataframe tbody tr th:only-of-type {\n",
              "        vertical-align: middle;\n",
              "    }\n",
              "\n",
              "    .dataframe tbody tr th {\n",
              "        vertical-align: top;\n",
              "    }\n",
              "\n",
              "    .dataframe thead th {\n",
              "        text-align: right;\n",
              "    }\n",
              "</style>\n",
              "<table border=\"1\" class=\"dataframe\">\n",
              "  <thead>\n",
              "    <tr style=\"text-align: right;\">\n",
              "      <th></th>\n",
              "      <th>Volume</th>\n",
              "      <th>Open</th>\n",
              "      <th>High</th>\n",
              "      <th>Low</th>\n",
              "      <th>Close</th>\n",
              "      <th>Adj Close</th>\n",
              "    </tr>\n",
              "    <tr>\n",
              "      <th>Date</th>\n",
              "      <th></th>\n",
              "      <th></th>\n",
              "      <th></th>\n",
              "      <th></th>\n",
              "      <th></th>\n",
              "      <th></th>\n",
              "    </tr>\n",
              "  </thead>\n",
              "  <tbody>\n",
              "    <tr>\n",
              "      <th>2019-01-02</th>\n",
              "      <td>1.232600e+06</td>\n",
              "      <td>134.000000</td>\n",
              "      <td>139.139999</td>\n",
              "      <td>131.169998</td>\n",
              "      <td>137.600006</td>\n",
              "      <td>137.600006</td>\n",
              "    </tr>\n",
              "    <tr>\n",
              "      <th>2019-01-03</th>\n",
              "      <td>1.219500e+06</td>\n",
              "      <td>134.759995</td>\n",
              "      <td>136.259995</td>\n",
              "      <td>129.479996</td>\n",
              "      <td>129.789993</td>\n",
              "      <td>129.789993</td>\n",
              "    </tr>\n",
              "    <tr>\n",
              "      <th>2019-01-04</th>\n",
              "      <td>1.366100e+06</td>\n",
              "      <td>134.509995</td>\n",
              "      <td>139.500000</td>\n",
              "      <td>133.160004</td>\n",
              "      <td>138.059998</td>\n",
              "      <td>138.059998</td>\n",
              "    </tr>\n",
              "    <tr>\n",
              "      <th>2019-01-05</th>\n",
              "      <td>1.330733e+06</td>\n",
              "      <td>136.223328</td>\n",
              "      <td>141.616669</td>\n",
              "      <td>135.020004</td>\n",
              "      <td>140.169998</td>\n",
              "      <td>140.169998</td>\n",
              "    </tr>\n",
              "    <tr>\n",
              "      <th>2019-01-06</th>\n",
              "      <td>1.295367e+06</td>\n",
              "      <td>137.936661</td>\n",
              "      <td>143.733337</td>\n",
              "      <td>136.880005</td>\n",
              "      <td>142.279999</td>\n",
              "      <td>142.279999</td>\n",
              "    </tr>\n",
              "  </tbody>\n",
              "</table>\n",
              "</div>"
            ],
            "text/plain": [
              "                  Volume        Open  ...       Close   Adj Close\n",
              "Date                                  ...                        \n",
              "2019-01-02  1.232600e+06  134.000000  ...  137.600006  137.600006\n",
              "2019-01-03  1.219500e+06  134.759995  ...  129.789993  129.789993\n",
              "2019-01-04  1.366100e+06  134.509995  ...  138.059998  138.059998\n",
              "2019-01-05  1.330733e+06  136.223328  ...  140.169998  140.169998\n",
              "2019-01-06  1.295367e+06  137.936661  ...  142.279999  142.279999\n",
              "\n",
              "[5 rows x 6 columns]"
            ]
          },
          "metadata": {
            "tags": []
          },
          "execution_count": 47
        }
      ]
    },
    {
      "cell_type": "code",
      "metadata": {
        "id": "dm0cQSeavSVG",
        "colab_type": "code",
        "outputId": "99192733-9585-4a14-f440-101682df3e86",
        "colab": {
          "base_uri": "https://localhost:8080/",
          "height": 499
        }
      },
      "source": [
        "print(\"Next, we'll calculate the price changes to engineer extra features.\")\n",
        "\n",
        "# Calculate moving average\n",
        "ma_window = 15\n",
        "df['MA'] = df['Adj Close'].rolling(window=ma_window).mean()\n",
        "df['HL_PCT'] = (df['High'] - df['Low']) / df['Close'] * 100.0\n",
        "df['PCT_change'] = (df['Close'] - df['Open']) / df['Open'] * 100.0\n",
        "\n",
        "df['Adj Close'].plot(label='Price')\n",
        "df['MA'].plot(label='Moving Average')\n",
        "plt.legend()"
      ],
      "execution_count": 0,
      "outputs": [
        {
          "output_type": "stream",
          "text": [
            "Next, we'll calculate the price changes for some feature engineering fun.\n"
          ],
          "name": "stdout"
        },
        {
          "output_type": "execute_result",
          "data": {
            "text/plain": [
              "<matplotlib.legend.Legend at 0x7fe9ce928f28>"
            ]
          },
          "metadata": {
            "tags": []
          },
          "execution_count": 4
        },
        {
          "output_type": "display_data",
          "data": {
            "image/png": "[encoded data removed]",
            "text/plain": [
              "<Figure size 576x504 with 1 Axes>"
            ]
          },
          "metadata": {
            "tags": []
          }
        }
      ]
    },
    {
      "cell_type": "code",
      "metadata": {
        "id": "I9umhFza6Gxr",
        "colab_type": "code",
        "outputId": "3c1c4448-6794-4fde-f25a-d616a2bbfd6f",
        "colab": {
          "base_uri": "https://localhost:8080/",
          "height": 238
        }
      },
      "source": [
        "# Now, it's time for preprocessing & cross-validation!\n",
        "\n",
        "# Drop missing value\n",
        "df.fillna(value=-99999, inplace=True)\n",
        "\n",
        "# We want to separate 1 percent of the data to forecast\n",
        "forecast_out = int(math.ceil(0.01 * len(df)))\n",
        "\n",
        "# Separating the label here, we want to predict the Forecast value\n",
        "df['Label'] = df['Adj Close'].shift(-forecast_out)\n",
        "X = np.array(df.drop(['Label'], axis=1))\n",
        "\n",
        "# Scale the X so that everyone can have the same distribution for linear regression\n",
        "X = preprocessing.scale(X)\n",
        "\n",
        "# Finally We want to find Data Series of late X and early X (train) for model generation and evaluation\n",
        "X_lately = X[-forecast_out:]\n",
        "X = X[:-forecast_out]\n",
        "\n",
        "# Separate label and identify it as y\n",
        "y = np.array(df['Label'])\n",
        "y = y[:-forecast_out]\n",
        "\n",
        "df.head()"
      ],
      "execution_count": 0,
      "outputs": [
        {
          "output_type": "execute_result",
          "data": {
            "text/html": [
              "<div>\n",
              "<style scoped>\n",
              "    .dataframe tbody tr th:only-of-type {\n",
              "        vertical-align: middle;\n",
              "    }\n",
              "\n",
              "    .dataframe tbody tr th {\n",
              "        vertical-align: top;\n",
              "    }\n",
              "\n",
              "    .dataframe thead th {\n",
              "        text-align: right;\n",
              "    }\n",
              "</style>\n",
              "<table border=\"1\" class=\"dataframe\">\n",
              "  <thead>\n",
              "    <tr style=\"text-align: right;\">\n",
              "      <th></th>\n",
              "      <th>Volume</th>\n",
              "      <th>Open</th>\n",
              "      <th>High</th>\n",
              "      <th>Low</th>\n",
              "      <th>Close</th>\n",
              "      <th>Adj Close</th>\n",
              "      <th>MA</th>\n",
              "      <th>HL_PCT</th>\n",
              "      <th>PCT_change</th>\n",
              "      <th>Label</th>\n",
              "    </tr>\n",
              "    <tr>\n",
              "      <th>Date</th>\n",
              "      <th></th>\n",
              "      <th></th>\n",
              "      <th></th>\n",
              "      <th></th>\n",
              "      <th></th>\n",
              "      <th></th>\n",
              "      <th></th>\n",
              "      <th></th>\n",
              "      <th></th>\n",
              "      <th></th>\n",
              "    </tr>\n",
              "  </thead>\n",
              "  <tbody>\n",
              "    <tr>\n",
              "      <th>2019-01-02</th>\n",
              "      <td>1.232600e+06</td>\n",
              "      <td>134.000000</td>\n",
              "      <td>139.139999</td>\n",
              "      <td>131.169998</td>\n",
              "      <td>137.600006</td>\n",
              "      <td>137.600006</td>\n",
              "      <td>-99999.0</td>\n",
              "      <td>5.792152</td>\n",
              "      <td>2.686572</td>\n",
              "      <td>140.169998</td>\n",
              "    </tr>\n",
              "    <tr>\n",
              "      <th>2019-01-03</th>\n",
              "      <td>1.219500e+06</td>\n",
              "      <td>134.759995</td>\n",
              "      <td>136.259995</td>\n",
              "      <td>129.479996</td>\n",
              "      <td>129.789993</td>\n",
              "      <td>129.789993</td>\n",
              "      <td>-99999.0</td>\n",
              "      <td>5.223823</td>\n",
              "      <td>-3.688040</td>\n",
              "      <td>142.279999</td>\n",
              "    </tr>\n",
              "    <tr>\n",
              "      <th>2019-01-04</th>\n",
              "      <td>1.366100e+06</td>\n",
              "      <td>134.509995</td>\n",
              "      <td>139.500000</td>\n",
              "      <td>133.160004</td>\n",
              "      <td>138.059998</td>\n",
              "      <td>138.059998</td>\n",
              "      <td>-99999.0</td>\n",
              "      <td>4.592203</td>\n",
              "      <td>2.639211</td>\n",
              "      <td>144.389999</td>\n",
              "    </tr>\n",
              "    <tr>\n",
              "      <th>2019-01-05</th>\n",
              "      <td>1.330733e+06</td>\n",
              "      <td>136.223328</td>\n",
              "      <td>141.616669</td>\n",
              "      <td>135.020004</td>\n",
              "      <td>140.169998</td>\n",
              "      <td>140.169998</td>\n",
              "      <td>-99999.0</td>\n",
              "      <td>4.706188</td>\n",
              "      <td>2.897206</td>\n",
              "      <td>145.440002</td>\n",
              "    </tr>\n",
              "    <tr>\n",
              "      <th>2019-01-06</th>\n",
              "      <td>1.295367e+06</td>\n",
              "      <td>137.936661</td>\n",
              "      <td>143.733337</td>\n",
              "      <td>136.880005</td>\n",
              "      <td>142.279999</td>\n",
              "      <td>142.279999</td>\n",
              "      <td>-99999.0</td>\n",
              "      <td>4.816793</td>\n",
              "      <td>3.148791</td>\n",
              "      <td>148.619995</td>\n",
              "    </tr>\n",
              "  </tbody>\n",
              "</table>\n",
              "</div>"
            ],
            "text/plain": [
              "                  Volume        Open  ...  PCT_change       Label\n",
              "Date                                  ...                        \n",
              "2019-01-02  1.232600e+06  134.000000  ...    2.686572  140.169998\n",
              "2019-01-03  1.219500e+06  134.759995  ...   -3.688040  142.279999\n",
              "2019-01-04  1.366100e+06  134.509995  ...    2.639211  144.389999\n",
              "2019-01-05  1.330733e+06  136.223328  ...    2.897206  145.440002\n",
              "2019-01-06  1.295367e+06  137.936661  ...    3.148791  148.619995\n",
              "\n",
              "[5 rows x 10 columns]"
            ]
          },
          "metadata": {
            "tags": []
          },
          "execution_count": 5
        }
      ]
    },
    {
      "cell_type": "code",
      "metadata": {
        "id": "Ct0VBSJrivI3",
        "colab_type": "code",
        "outputId": "6deaa163-232f-4c80-8159-1d7d961f215e",
        "colab": {
          "base_uri": "https://localhost:8080/",
          "height": 93
        }
      },
      "source": [
        "# So, how'd we do?\n",
        "\n",
        "# Linear regression\n",
        "clfreg = LinearRegression(n_jobs=-1)\n",
        "clfreg.fit(X, y)\n",
        "clfreg_confidence = clfreg.score(X, y) * 100\n",
        "print('Linear regression score: {:.2f}%'.format(clfreg_confidence))\n",
        "\n",
        "# Quadratic Regression 2\n",
        "clfpoly2 = make_pipeline(PolynomialFeatures(2), Ridge())\n",
        "clfpoly2.fit(X, y)\n",
        "clfpoly2_confidence = clfpoly2.score(X, y) * 100\n",
        "print('Quadratic Regression 2 score: {:.2f}%'.format(clfpoly2_confidence))\n",
        "\n",
        "# Quadratic Regression 5\n",
        "clfpoly5 = make_pipeline(PolynomialFeatures(5), Ridge())\n",
        "clfpoly5.fit(X, y)\n",
        "clfpoly5_confidence = clfpoly5.score(X, y) * 100\n",
        "print('Quadratic Regression 5 score: {:.2f}%'.format(clfpoly5_confidence))\n",
        "\n",
        "# KNN Regression\n",
        "clfknn = KNeighborsRegressor(n_neighbors=2)\n",
        "clfknn.fit(X, y)\n",
        "clfknn_confidence = clfknn.score(X, y) * 100\n",
        "print('KNN Regression score: {:.2f}%'.format(clfknn_confidence))"
      ],
      "execution_count": 0,
      "outputs": [
        {
          "output_type": "stream",
          "text": [
            "Linear regression score: 98.19%\n",
            "Quadratic Regression 2 score: 98.31%\n",
            "Quadratic Regression 5 score: 99.17%\n",
            "KNN Regression score: 98.47%\n"
          ],
          "name": "stdout"
        }
      ]
    },
    {
      "cell_type": "code",
      "metadata": {
        "id": "Lmr1dvrQ_hcm",
        "colab_type": "code",
        "outputId": "78d47e43-9b23-4eab-b3c0-681ce5dd5cec",
        "colab": {
          "base_uri": "https://localhost:8080/",
          "height": 480
        }
      },
      "source": [
        "print(\"Enough with the code. Let's get that cheddar! 💰🧀\")\n",
        "\n",
        "clfreg_forecast = clfreg.predict(X_lately)\n",
        "clfpoly2_forecast = clfpoly2.predict(X_lately)\n",
        "clfpoly5_forecast = clfpoly5.predict(X_lately)\n",
        "clfknn_forecast = clfknn.predict(X_lately)\n",
        "forecast_set = (clfreg_forecast + clfpoly2_forecast + clfpoly5_forecast + clfknn_forecast) / 4\n",
        "\n",
        "df['Forecast'] = np.nan\n",
        "last_date = df.iloc[-1].name\n",
        "last_unix = last_date\n",
        "next_unix = last_unix + datetime.timedelta(days=1)\n",
        "\n",
        "for i in forecast_set:\n",
        "    next_date = next_unix\n",
        "    next_unix += datetime.timedelta(days=1)\n",
        "    df.loc[next_date] = [np.nan for _ in\n",
        "                         range(len(df.columns)-1)]+[i]\n",
        "\n",
        "df['Adj Close'].tail(100).plot()\n",
        "df['Forecast'].tail(100).plot()\n",
        "plt.legend(loc=4)\n",
        "plt.xlabel('Date')\n",
        "plt.ylabel('Price')\n",
        "plt.show()"
      ],
      "execution_count": 0,
      "outputs": [
        {
          "output_type": "stream",
          "text": [
            "Let's get that chedder! 💰🧀\n"
          ],
          "name": "stdout"
        },
        {
          "output_type": "display_data",
          "data": {
            "image/png": "[encoded data removed]",
            "text/plain": [
              "<Figure size 576x504 with 1 Axes>"
            ]
          },
          "metadata": {
            "tags": []
          }
        }
      ]
    },
    {
      "cell_type": "code",
      "metadata": {
        "id": "MFigRAsjKVLm",
        "colab_type": "code",
        "outputId": "2ced9867-27aa-43b2-91df-74462c6f40fc",
        "colab": {
          "base_uri": "https://localhost:8080/",
          "height": 55
        }
      },
      "source": [
        "isBuySignal = np.mean(forecast_set) > df.iloc[-forecast_set.size - 1]['Adj Close']\n",
        "\n",
        "print('I think you should...')\n",
        "print('BUY!' if isBuySignal else 'SELL!')"
      ],
      "execution_count": 0,
      "outputs": [
        {
          "output_type": "stream",
          "text": [
            "I think you should...\n",
            "BUY!\n"
          ],
          "name": "stdout"
        }
      ]
    },
    {
      "cell_type": "code",
      "metadata": {
        "id": "6m95YEjKL23Z",
        "colab_type": "code",
        "colab": {}
      },
      "source": [
        "# Extra Credit\n",
        "# https://colab.research.google.com/drive/1FzLCI0AO3c7A4bp9Fi01UwXeoc7BN8sW#scrollTo=S8Q9zy5hY6CR\n",
        "\n",
        "from collections import deque\n",
        "import random\n",
        "\n",
        "name = 'Double Q-learning agent'\n",
        "\n",
        "class Model:\n",
        "    def __init__(self, input_size, output_size, layer_size, learning_rate):\n",
        "        self.X = tf.placeholder(tf.float32, (None, input_size))\n",
        "        self.Y = tf.placeholder(tf.float32, (None, output_size))\n",
        "        feed_forward = tf.layers.dense(self.X, layer_size, activation = tf.nn.relu)\n",
        "        self.logits = tf.layers.dense(feed_forward, output_size)\n",
        "        self.cost = tf.reduce_sum(tf.square(self.Y - self.logits))\n",
        "        self.optimizer = tf.train.AdamOptimizer(learning_rate = learning_rate).minimize(self.cost)\n",
        "        \n",
        "class Agent:\n",
        "\n",
        "    LEARNING_RATE = 0.003\n",
        "    BATCH_SIZE = 32\n",
        "    LAYER_SIZE = 500\n",
        "    OUTPUT_SIZE = 3\n",
        "    EPSILON = 0.5\n",
        "    DECAY_RATE = 0.005\n",
        "    MIN_EPSILON = 0.1\n",
        "    GAMMA = 0.99\n",
        "    MEMORIES = deque()\n",
        "    COPY = 1000\n",
        "    T_COPY = 0\n",
        "    MEMORY_SIZE = 300\n",
        "    \n",
        "    def __init__(self, state_size, window_size, trend, skip):\n",
        "        self.state_size = state_size\n",
        "        self.window_size = window_size\n",
        "        self.half_window = window_size // 2\n",
        "        self.trend = trend\n",
        "        self.skip = skip\n",
        "        tf.reset_default_graph()\n",
        "        self.model = Model(self.state_size, self.OUTPUT_SIZE, self.LAYER_SIZE, self.LEARNING_RATE)\n",
        "        self.model_negative = Model(self.state_size, self.OUTPUT_SIZE, self.LAYER_SIZE, self.LEARNING_RATE)\n",
        "        self.sess = tf.InteractiveSession()\n",
        "        self.sess.run(tf.global_variables_initializer())\n",
        "        self.trainable = tf.trainable_variables()\n",
        "    \n",
        "    def _assign(self):\n",
        "        for i in range(len(self.trainable)//2):\n",
        "            assign_op = self.trainable[i+len(self.trainable)//2].assign(self.trainable[i])\n",
        "            self.sess.run(assign_op)\n",
        "\n",
        "    def _memorize(self, state, action, reward, new_state, done):\n",
        "        self.MEMORIES.append((state, action, reward, new_state, done))\n",
        "        if len(self.MEMORIES) > self.MEMORY_SIZE:\n",
        "            self.MEMORIES.popleft()\n",
        "\n",
        "    def _select_action(self, state):\n",
        "        if np.random.rand() < self.EPSILON:\n",
        "            action = np.random.randint(self.OUTPUT_SIZE)\n",
        "        else:\n",
        "            action = self.get_predicted_action([state])\n",
        "        return action\n",
        "\n",
        "    def _construct_memories(self, replay):\n",
        "        states = np.array([a[0] for a in replay])\n",
        "        new_states = np.array([a[3] for a in replay])\n",
        "        Q = self.predict(states)\n",
        "        Q_new = self.predict(new_states)\n",
        "        Q_new_negative = self.sess.run(self.model_negative.logits, feed_dict={self.model_negative.X:new_states})\n",
        "        replay_size = len(replay)\n",
        "        X = np.empty((replay_size, self.state_size))\n",
        "        Y = np.empty((replay_size, self.OUTPUT_SIZE))\n",
        "        for i in range(replay_size):\n",
        "            state_r, action_r, reward_r, new_state_r, done_r = replay[i]\n",
        "            target = Q[i]\n",
        "            target[action_r] = reward_r\n",
        "            if not done_r:\n",
        "                target[action_r] += self.GAMMA * Q_new_negative[i, np.argmax(Q_new[i])]\n",
        "            X[i] = state_r\n",
        "            Y[i] = target\n",
        "        return X, Y\n",
        "\n",
        "    def predict(self, inputs):\n",
        "        return self.sess.run(self.model.logits, feed_dict={self.model.X:inputs})\n",
        "    \n",
        "    def get_predicted_action(self, sequence):\n",
        "        prediction = self.predict(np.array(sequence))[0]\n",
        "        return np.argmax(prediction)\n",
        "    \n",
        "    def get_state(self, t):\n",
        "        window_size = self.window_size + 1\n",
        "        d = t - window_size + 1\n",
        "        block = self.trend[d : t + 1] if d >= 0 else -d * [self.trend[0]] + self.trend[0 : t + 1]\n",
        "        res = []\n",
        "        for i in range(window_size - 1):\n",
        "            res.append(block[i + 1] - block[i])\n",
        "        return np.array(res)\n",
        "    \n",
        "    def buy(self, initial_money):\n",
        "        starting_money = initial_money\n",
        "        states_sell = []\n",
        "        states_buy = []\n",
        "        inventory = []\n",
        "        state = self.get_state(0)\n",
        "        for t in range(0, len(self.trend) - 1, self.skip):\n",
        "            action = self._select_action(state)\n",
        "            next_state = self.get_state(t + 1)\n",
        "            \n",
        "            if action == 1 and initial_money >= self.trend[t]:\n",
        "                inventory.append(self.trend[t])\n",
        "                initial_money -= self.trend[t]\n",
        "                states_buy.append(t)\n",
        "                print('day %d: buy 1 unit at price %f, total balance %f'% (t, self.trend[t], initial_money))\n",
        "            \n",
        "            elif action == 2 and len(inventory):\n",
        "                bought_price = inventory.pop(0)\n",
        "                initial_money += self.trend[t]\n",
        "                states_sell.append(t)\n",
        "                try:\n",
        "                    invest = ((close[t] - bought_price) / bought_price) * 100\n",
        "                except:\n",
        "                    invest = 0\n",
        "                print(\n",
        "                    'day %d, sell 1 unit at price %f, investment %f %%, total balance %f,'\n",
        "                    % (t, close[t], invest, initial_money)\n",
        "                )\n",
        "            \n",
        "            state = next_state\n",
        "        invest = ((initial_money - starting_money) / starting_money) * 100\n",
        "        total_gains = initial_money - starting_money\n",
        "        return states_buy, states_sell, total_gains, invest\n",
        "            \n",
        "    \n",
        "    def train(self, iterations, checkpoint, initial_money):\n",
        "        for i in range(iterations):\n",
        "            total_profit = 0\n",
        "            inventory = []\n",
        "            state = self.get_state(0)\n",
        "            starting_money = initial_money\n",
        "            for t in range(0, len(self.trend) - 1, self.skip):\n",
        "                if (self.T_COPY + 1) % self.COPY == 0:\n",
        "                    self._assign()\n",
        "                \n",
        "                action = self._select_action(state)\n",
        "                next_state = self.get_state(t + 1)\n",
        "                \n",
        "                if action == 1 and starting_money >= self.trend[t]:\n",
        "                    inventory.append(self.trend[t])\n",
        "                    starting_money -= self.trend[t]\n",
        "                \n",
        "                elif action == 2 and len(inventory) > 0:\n",
        "                    bought_price = inventory.pop(0)\n",
        "                    total_profit += self.trend[t] - bought_price\n",
        "                    starting_money += self.trend[t]\n",
        "                    \n",
        "                invest = ((starting_money - initial_money) / initial_money)\n",
        "                \n",
        "                self._memorize(state, action, invest, next_state, starting_money < initial_money)\n",
        "                batch_size = min(len(self.MEMORIES), self.BATCH_SIZE)\n",
        "                replay = random.sample(self.MEMORIES, batch_size)\n",
        "                state = next_state\n",
        "                X, Y = self._construct_memories(replay)\n",
        "                \n",
        "                cost, _ = self.sess.run([self.model.cost, self.model.optimizer], \n",
        "                                        feed_dict={self.model.X: X, self.model.Y:Y})\n",
        "                self.T_COPY += 1\n",
        "                self.EPSILON = self.MIN_EPSILON + (1.0 - self.MIN_EPSILON) * np.exp(-self.DECAY_RATE * i)\n",
        "            if (i+1) % checkpoint == 0:\n",
        "                print('epoch: %d, total rewards: %f.3, cost: %f, total money: %f'%(i + 1, total_profit, cost,\n",
        "                                                                                  starting_money))"
      ],
      "execution_count": 0,
      "outputs": []
    },
    {
      "cell_type": "code",
      "metadata": {
        "id": "Mlzjwn5UMEkc",
        "colab_type": "code",
        "outputId": "9b995723-d4b3-4407-f143-06458ce26b32",
        "colab": {
          "base_uri": "https://localhost:8080/",
          "height": 399
        }
      },
      "source": [
        "import tensorflow as tf\n",
        "\n",
        "df_full = pdr.get_data_yahoo(\"SHOP\", start=\"2017-01-01\").reset_index()\n",
        "close = df_full['Close'].values.tolist()\n",
        "initial_money = 10000\n",
        "window_size = 30\n",
        "skip = 1\n",
        "batch_size = 32\n",
        "agent = Agent(state_size = window_size, \n",
        "              window_size = window_size, \n",
        "              trend = close, \n",
        "              skip = skip)\n",
        "agent.train(iterations = 200, checkpoint = 10, initial_money = initial_money)"
      ],
      "execution_count": 0,
      "outputs": [
        {
          "output_type": "stream",
          "text": [
            "epoch: 10, total rewards: 5438.450090.3, cost: 0.554053, total money: 7941.230165\n",
            "epoch: 20, total rewards: 1450.599947.3, cost: 0.104391, total money: 6114.749970\n",
            "epoch: 30, total rewards: 950.240059.3, cost: 0.055083, total money: 10564.850044\n",
            "epoch: 40, total rewards: 4708.409954.3, cost: 0.146111, total money: 7840.589947\n",
            "epoch: 50, total rewards: 246.269994.3, cost: 0.042269, total money: 9854.560003\n",
            "epoch: 60, total rewards: 95.900081.3, cost: 0.011444, total money: 9309.390102\n",
            "epoch: 70, total rewards: 377.569943.3, cost: 0.032290, total money: 10377.569943\n",
            "epoch: 80, total rewards: 620.099994.3, cost: 0.108395, total money: 10245.129993\n",
            "epoch: 90, total rewards: 124.170116.3, cost: 0.015916, total money: 9347.070110\n",
            "epoch: 100, total rewards: 203.559984.3, cost: 0.022321, total money: 9811.849993\n",
            "epoch: 110, total rewards: 200.689993.3, cost: 0.013823, total money: 9419.339987\n",
            "epoch: 120, total rewards: 463.500018.3, cost: 0.019790, total money: 10463.500018\n",
            "epoch: 130, total rewards: 162.920146.3, cost: 0.002915, total money: 10162.920146\n",
            "epoch: 140, total rewards: 281.930068.3, cost: 0.015614, total money: 10281.930068\n",
            "epoch: 150, total rewards: 132.679953.3, cost: 0.005718, total money: 9740.969962\n",
            "epoch: 160, total rewards: 72.820064.3, cost: 0.007264, total money: 10072.820064\n",
            "epoch: 170, total rewards: 3.590022.3, cost: 0.005261, total money: 10003.590022\n",
            "epoch: 180, total rewards: 155.290100.3, cost: 0.004680, total money: 9763.580109\n",
            "epoch: 190, total rewards: 12.789991.3, cost: 0.001379, total money: 9627.399976\n",
            "epoch: 200, total rewards: 86.289938.3, cost: 0.001580, total money: 10086.289938\n"
          ],
          "name": "stdout"
        }
      ]
    },
    {
      "cell_type": "code",
      "metadata": {
        "id": "qTljlGLwMeDQ",
        "colab_type": "code",
        "outputId": "6d0bd867-8bc4-4c29-cb22-e7b252f5b75a",
        "colab": {
          "base_uri": "https://localhost:8080/",
          "height": 1000
        }
      },
      "source": [
        "states_buy, states_sell, total_gains, invest = agent.buy(initial_money = initial_money)"
      ],
      "execution_count": 0,
      "outputs": [
        {
          "output_type": "stream",
          "text": [
            "day 0: buy 1 unit at price 42.820000, total balance 9957.180000\n",
            "day 1, sell 1 unit at price 44.139999, investment 3.082669 %, total balance 10001.319999,\n",
            "day 10: buy 1 unit at price 49.980000, total balance 9951.339999\n",
            "day 11, sell 1 unit at price 50.660000, investment 1.360544 %, total balance 10001.999999,\n",
            "day 12: buy 1 unit at price 50.090000, total balance 9951.909999\n",
            "day 13, sell 1 unit at price 49.439999, investment -1.297666 %, total balance 10001.349998,\n",
            "day 46: buy 1 unit at price 64.150002, total balance 9937.199996\n",
            "day 48, sell 1 unit at price 63.830002, investment -0.498831 %, total balance 10001.029998,\n",
            "day 56: buy 1 unit at price 68.980003, total balance 9932.049995\n",
            "day 57, sell 1 unit at price 70.400002, investment 2.058566 %, total balance 10002.449997,\n",
            "day 103: buy 1 unit at price 93.440002, total balance 9909.009995\n",
            "day 104, sell 1 unit at price 97.529999, investment 4.377137 %, total balance 10006.539994,\n",
            "day 119: buy 1 unit at price 94.480003, total balance 9912.059991\n",
            "day 120, sell 1 unit at price 92.040001, investment -2.582559 %, total balance 10004.099992,\n",
            "day 123: buy 1 unit at price 86.400002, total balance 9917.699990\n",
            "day 124: buy 1 unit at price 86.900002, total balance 9830.799988\n",
            "day 125, sell 1 unit at price 86.000000, investment -0.462965 %, total balance 9916.799988,\n",
            "day 126, sell 1 unit at price 88.110001, investment 1.392404 %, total balance 10004.909989,\n",
            "day 130: buy 1 unit at price 91.290001, total balance 9913.619988\n",
            "day 131: buy 1 unit at price 94.680000, total balance 9818.939988\n",
            "day 132, sell 1 unit at price 93.019997, investment 1.895055 %, total balance 9911.959985,\n",
            "day 133, sell 1 unit at price 92.410004, investment -2.397545 %, total balance 10004.369989,\n",
            "day 136: buy 1 unit at price 91.900002, total balance 9912.469987\n",
            "day 137, sell 1 unit at price 90.870003, investment -1.120782 %, total balance 10003.339990,\n",
            "day 149: buy 1 unit at price 97.790001, total balance 9905.549989\n",
            "day 150, sell 1 unit at price 96.510002, investment -1.308926 %, total balance 10002.059991,\n",
            "day 157: buy 1 unit at price 93.500000, total balance 9908.559991\n",
            "day 158, sell 1 unit at price 94.580002, investment 1.155082 %, total balance 10003.139993,\n",
            "day 160: buy 1 unit at price 98.610001, total balance 9904.529992\n",
            "day 161, sell 1 unit at price 102.459999, investment 3.904267 %, total balance 10006.989991,\n",
            "day 175: buy 1 unit at price 119.209999, total balance 9887.779992\n",
            "day 176, sell 1 unit at price 120.199997, investment 0.830466 %, total balance 10007.979989,\n",
            "day 205: buy 1 unit at price 102.989998, total balance 9904.989991\n",
            "day 206, sell 1 unit at price 104.110001, investment 1.087487 %, total balance 10009.099992,\n",
            "day 226: buy 1 unit at price 111.809998, total balance 9897.289994\n",
            "day 228, sell 1 unit at price 112.089996, investment 0.250423 %, total balance 10009.379990,\n",
            "day 243: buy 1 unit at price 105.730003, total balance 9903.649987\n",
            "day 244, sell 1 unit at price 105.239998, investment -0.463449 %, total balance 10008.889985,\n",
            "day 246: buy 1 unit at price 103.860001, total balance 9905.029984\n",
            "day 247, sell 1 unit at price 104.839996, investment 0.943573 %, total balance 10009.869980,\n",
            "day 248: buy 1 unit at price 104.500000, total balance 9905.369980\n",
            "day 249, sell 1 unit at price 102.389999, investment -2.019140 %, total balance 10007.759979,\n",
            "day 257: buy 1 unit at price 111.000000, total balance 9896.759979\n",
            "day 258: buy 1 unit at price 111.129997, total balance 9785.629982\n",
            "day 259, sell 1 unit at price 112.800003, investment 1.621624 %, total balance 9898.429985,\n",
            "day 260: buy 1 unit at price 111.919998, total balance 9786.509987\n",
            "day 261, sell 1 unit at price 114.910004, investment 3.401428 %, total balance 9901.419991,\n",
            "day 262, sell 1 unit at price 114.800003, investment 2.573271 %, total balance 10016.219994,\n",
            "day 271: buy 1 unit at price 127.919998, total balance 9888.299996\n",
            "day 272: buy 1 unit at price 126.279999, total balance 9762.019997\n",
            "day 275, sell 1 unit at price 122.139999, investment -4.518448 %, total balance 9884.159996,\n",
            "day 276, sell 1 unit at price 123.339996, investment -2.328162 %, total balance 10007.499992,\n",
            "day 282: buy 1 unit at price 137.949997, total balance 9869.549995\n",
            "day 284, sell 1 unit at price 142.779999, investment 3.501270 %, total balance 10012.329994,\n",
            "day 285: buy 1 unit at price 132.899994, total balance 9879.430000\n",
            "day 286, sell 1 unit at price 134.179993, investment 0.963129 %, total balance 10013.609993,\n",
            "day 287: buy 1 unit at price 137.000000, total balance 9876.609993\n",
            "day 288, sell 1 unit at price 136.270004, investment -0.532844 %, total balance 10012.879997,\n",
            "day 291: buy 1 unit at price 136.850006, total balance 9876.029991\n",
            "day 292, sell 1 unit at price 136.750000, investment -0.073077 %, total balance 10012.779991,\n",
            "day 294: buy 1 unit at price 141.509995, total balance 9871.269996\n",
            "day 295, sell 1 unit at price 143.679993, investment 1.533459 %, total balance 10014.949989,\n",
            "day 298: buy 1 unit at price 148.149994, total balance 9866.799995\n",
            "day 299, sell 1 unit at price 145.320007, investment -1.910217 %, total balance 10012.120002,\n",
            "day 305: buy 1 unit at price 149.399994, total balance 9862.720008\n",
            "day 306, sell 1 unit at price 145.449997, investment -2.643907 %, total balance 10008.170005,\n",
            "day 307: buy 1 unit at price 141.660004, total balance 9866.510001\n",
            "day 309, sell 1 unit at price 128.820007, investment -9.063954 %, total balance 9995.330008,\n",
            "day 316: buy 1 unit at price 117.419998, total balance 9877.910010\n",
            "day 317, sell 1 unit at price 118.949997, investment 1.303014 %, total balance 9996.860007,\n",
            "day 320: buy 1 unit at price 120.750000, total balance 9876.110007\n",
            "day 322, sell 1 unit at price 116.940002, investment -3.155278 %, total balance 9993.050009,\n",
            "day 327: buy 1 unit at price 122.910004, total balance 9870.140005\n",
            "day 329, sell 1 unit at price 120.019997, investment -2.351320 %, total balance 9990.160002,\n",
            "day 331: buy 1 unit at price 126.620003, total balance 9863.539999\n",
            "day 332, sell 1 unit at price 133.630005, investment 5.536252 %, total balance 9997.170004,\n",
            "day 341: buy 1 unit at price 144.470001, total balance 9852.700003\n",
            "day 342, sell 1 unit at price 142.639999, investment -1.266700 %, total balance 9995.340002,\n",
            "day 345: buy 1 unit at price 146.100006, total balance 9849.239996\n",
            "day 346, sell 1 unit at price 147.059998, investment 0.657079 %, total balance 9996.299994,\n",
            "day 350: buy 1 unit at price 143.050003, total balance 9853.249991\n",
            "day 351, sell 1 unit at price 143.639999, investment 0.412440 %, total balance 9996.889990,\n",
            "day 354: buy 1 unit at price 148.089996, total balance 9848.799994\n",
            "day 356, sell 1 unit at price 156.910004, investment 5.955843 %, total balance 10005.709998,\n",
            "day 360: buy 1 unit at price 162.809998, total balance 9842.900000\n",
            "day 361, sell 1 unit at price 160.240005, investment -1.578523 %, total balance 10003.140005,\n",
            "day 376: buy 1 unit at price 149.419998, total balance 9853.720007\n",
            "day 377, sell 1 unit at price 150.500000, investment 0.722796 %, total balance 10004.220007,\n",
            "day 379: buy 1 unit at price 156.809998, total balance 9847.410009\n",
            "day 381: buy 1 unit at price 158.979996, total balance 9688.430013\n",
            "day 382, sell 1 unit at price 160.979996, investment 2.659268 %, total balance 9849.410009,\n",
            "day 383, sell 1 unit at price 167.500000, investment 5.359167 %, total balance 10016.910009,\n",
            "day 387: buy 1 unit at price 170.479996, total balance 9846.430013\n",
            "day 388, sell 1 unit at price 171.750000, investment 0.744958 %, total balance 10018.180013,\n",
            "day 394: buy 1 unit at price 160.149994, total balance 9858.030019\n",
            "day 395, sell 1 unit at price 148.080002, investment -7.536680 %, total balance 10006.110021,\n",
            "day 396: buy 1 unit at price 138.210007, total balance 9867.900014\n",
            "day 397, sell 1 unit at price 136.360001, investment -1.338547 %, total balance 10004.260015,\n",
            "day 403: buy 1 unit at price 146.440002, total balance 9857.820013\n",
            "day 404: buy 1 unit at price 149.220001, total balance 9708.600012\n",
            "day 405: buy 1 unit at price 142.869995, total balance 9565.730017\n",
            "day 406, sell 1 unit at price 144.380005, investment -1.406717 %, total balance 9710.110022,\n",
            "day 407, sell 1 unit at price 138.919998, investment -6.902562 %, total balance 9849.030020,\n",
            "day 410, sell 1 unit at price 135.970001, investment -4.829561 %, total balance 9985.000021,\n",
            "day 412: buy 1 unit at price 137.630005, total balance 9847.370016\n",
            "day 413, sell 1 unit at price 137.490005, investment -0.101722 %, total balance 9984.860021,\n",
            "day 417: buy 1 unit at price 145.149994, total balance 9839.710027\n",
            "day 419: buy 1 unit at price 145.669998, total balance 9694.040029\n",
            "day 420: buy 1 unit at price 146.339996, total balance 9547.700033\n",
            "day 421, sell 1 unit at price 139.970001, investment -3.568717 %, total balance 9687.670034,\n",
            "day 422: buy 1 unit at price 134.130005, total balance 9553.540029\n",
            "day 423, sell 1 unit at price 140.639999, investment -3.453010 %, total balance 9694.180028,\n",
            "day 424, sell 1 unit at price 142.130005, investment -2.876856 %, total balance 9836.310033,\n",
            "day 425, sell 1 unit at price 147.759995, investment 10.161776 %, total balance 9984.070028,\n",
            "day 432: buy 1 unit at price 167.169998, total balance 9816.900030\n",
            "day 433, sell 1 unit at price 161.520004, investment -3.379789 %, total balance 9978.420034,\n",
            "day 434: buy 1 unit at price 162.179993, total balance 9816.240041\n",
            "day 435, sell 1 unit at price 161.110001, investment -0.659756 %, total balance 9977.350042,\n",
            "day 439: buy 1 unit at price 163.419998, total balance 9813.930044\n",
            "day 440, sell 1 unit at price 156.600006, investment -4.173291 %, total balance 9970.530050,\n",
            "day 444: buy 1 unit at price 140.490005, total balance 9830.040045\n",
            "day 445, sell 1 unit at price 140.220001, investment -0.192187 %, total balance 9970.260046,\n",
            "day 457: buy 1 unit at price 136.990005, total balance 9833.270041\n",
            "day 458: buy 1 unit at price 132.949997, total balance 9700.320044\n",
            "day 459, sell 1 unit at price 128.500000, investment -6.197536 %, total balance 9828.820044,\n",
            "day 460: buy 1 unit at price 129.139999, total balance 9699.680045\n",
            "day 462, sell 1 unit at price 144.350006, investment 8.574659 %, total balance 9844.030051,\n",
            "day 463, sell 1 unit at price 145.550003, investment 12.707143 %, total balance 9989.580054,\n",
            "day 479: buy 1 unit at price 144.470001, total balance 9845.110053\n",
            "day 480, sell 1 unit at price 149.960007, investment 3.800101 %, total balance 9995.070060,\n",
            "day 487: buy 1 unit at price 151.500000, total balance 9843.570060\n",
            "day 488, sell 1 unit at price 154.669998, investment 2.092408 %, total balance 9998.240058,\n",
            "day 495: buy 1 unit at price 127.709999, total balance 9870.530059\n",
            "day 496, sell 1 unit at price 122.410004, investment -4.150024 %, total balance 9992.940063,\n",
            "day 508: buy 1 unit at price 148.270004, total balance 9844.670059\n",
            "day 510: buy 1 unit at price 149.100006, total balance 9695.570053\n",
            "day 511, sell 1 unit at price 154.300003, investment 4.066904 %, total balance 9849.870056,\n",
            "day 512: buy 1 unit at price 158.250000, total balance 9691.620056\n",
            "day 513, sell 1 unit at price 157.690002, investment 5.761231 %, total balance 9849.310058,\n",
            "day 514, sell 1 unit at price 158.429993, investment 0.113740 %, total balance 10007.740051,\n",
            "day 525: buy 1 unit at price 173.570007, total balance 9834.170044\n",
            "day 526: buy 1 unit at price 173.600006, total balance 9660.570038\n",
            "day 527, sell 1 unit at price 171.800003, investment -1.019764 %, total balance 9832.370041,\n",
            "day 528: buy 1 unit at price 175.949997, total balance 9656.420044\n",
            "day 529: buy 1 unit at price 173.169998, total balance 9483.250046\n",
            "day 530, sell 1 unit at price 175.550003, investment 1.123270 %, total balance 9658.800049,\n",
            "day 531, sell 1 unit at price 172.020004, investment -2.233585 %, total balance 9830.820053,\n",
            "day 532, sell 1 unit at price 176.520004, investment 1.934519 %, total balance 10007.340057,\n",
            "day 555: buy 1 unit at price 201.339996, total balance 9806.000061\n",
            "day 556, sell 1 unit at price 205.000000, investment 1.817823 %, total balance 10011.000061,\n",
            "day 564: buy 1 unit at price 201.460007, total balance 9809.540054\n",
            "day 566, sell 1 unit at price 194.750000, investment -3.330689 %, total balance 10004.290054,\n",
            "day 587: buy 1 unit at price 265.519989, total balance 9738.770065\n",
            "day 588, sell 1 unit at price 258.690002, investment -2.572306 %, total balance 9997.460067,\n",
            "day 595: buy 1 unit at price 278.010010, total balance 9719.450057\n",
            "day 596, sell 1 unit at price 273.500000, investment -1.622247 %, total balance 9992.950057,\n",
            "day 601: buy 1 unit at price 275.850006, total balance 9717.100051\n",
            "day 602, sell 1 unit at price 282.429993, investment 2.385350 %, total balance 9999.530044,\n",
            "day 610: buy 1 unit at price 305.049988, total balance 9694.480056\n",
            "day 611: buy 1 unit at price 306.730011, total balance 9387.750045\n",
            "day 612, sell 1 unit at price 306.709991, investment 0.544174 %, total balance 9694.460036,\n",
            "day 613, sell 1 unit at price 310.140015, investment 1.111728 %, total balance 10004.600051,\n",
            "day 621: buy 1 unit at price 311.829987, total balance 9692.770064\n",
            "day 622, sell 1 unit at price 284.040009, investment -8.911900 %, total balance 9976.810073,\n",
            "day 630: buy 1 unit at price 321.000000, total balance 9655.810073\n",
            "day 631, sell 1 unit at price 321.980011, investment 0.305299 %, total balance 9977.790084,\n",
            "day 642: buy 1 unit at price 329.570007, total balance 9648.220077\n",
            "day 644, sell 1 unit at price 336.540009, investment 2.114878 %, total balance 9984.760086,\n",
            "day 648: buy 1 unit at price 341.390015, total balance 9643.370071\n",
            "day 649: buy 1 unit at price 332.190002, total balance 9311.180069\n",
            "day 653, sell 1 unit at price 357.809998, investment 4.809743 %, total balance 9668.990067,\n",
            "day 654, sell 1 unit at price 369.950012, investment 11.366992 %, total balance 10038.940079,\n",
            "day 656: buy 1 unit at price 369.230011, total balance 9669.710068\n",
            "day 658, sell 1 unit at price 351.070007, investment -4.918345 %, total balance 10020.780075,\n"
          ],
          "name": "stdout"
        }
      ]
    },
    {
      "cell_type": "code",
      "metadata": {
        "id": "UJv1N60jMgMx",
        "colab_type": "code",
        "outputId": "46577c2d-2c50-402e-a4a4-7fae7bc45fdc",
        "colab": {
          "base_uri": "https://localhost:8080/",
          "height": 337
        }
      },
      "source": [
        "fig = plt.figure(figsize = (15,5))\n",
        "plt.plot(close, color='r', lw=2.)\n",
        "plt.plot(close, '^', markersize=10, color='m', label = 'buying signal', markevery = states_buy)\n",
        "plt.plot(close, 'v', markersize=10, color='k', label = 'selling signal', markevery = states_sell)\n",
        "plt.title('total gains %f, total investment %f%%'%(total_gains, invest))\n",
        "plt.legend()\n",
        "plt.show()"
      ],
      "execution_count": 0,
      "outputs": [
        {
          "output_type": "display_data",
          "data": {
            "image/png": "[encoded data removed]",
            "text/plain": [
              "<Figure size 1080x360 with 1 Axes>"
            ]
          },
          "metadata": {
            "tags": []
          }
        }
      ]
    },
    {
      "cell_type": "markdown",
      "metadata": {
        "id": "a_7t9z0wQb-U",
        "colab_type": "text"
      },
      "source": [
        "![Payday](https://media.giphy.com/media/C9ElAcAHIPvCmgRxJM/giphy.gif \"Payday!\")"
      ]
    }
  ]
}